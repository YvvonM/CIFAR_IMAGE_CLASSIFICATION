{
  "nbformat": 4,
  "nbformat_minor": 0,
  "metadata": {
    "colab": {
      "provenance": [],
      "gpuType": "T4"
    },
    "kernelspec": {
      "name": "python3",
      "display_name": "Python 3"
    },
    "language_info": {
      "name": "python"
    },
    "accelerator": "GPU"
  },
  "cells": [
    {
      "cell_type": "markdown",
      "source": [
        "### Importing libraries"
      ],
      "metadata": {
        "id": "UgY-bMY_X9Va"
      }
    },
    {
      "cell_type": "code",
      "execution_count": null,
      "metadata": {
        "id": "LaGjzx1NXao7"
      },
      "outputs": [],
      "source": [
        "import tensorflow as tf\n",
        "from tensorflow import keras\n",
        "from tensorflow.keras import layers\n",
        "\n",
        "import matplotlib.pyplot as plt\n",
        "import pandas as pd"
      ]
    },
    {
      "cell_type": "markdown",
      "source": [
        "### Importing the datasets"
      ],
      "metadata": {
        "id": "JRhk_UqFYvb3"
      }
    },
    {
      "cell_type": "code",
      "source": [
        "cifar10 = keras.datasets.cifar10"
      ],
      "metadata": {
        "id": "Dbg-7viUZehH"
      },
      "execution_count": null,
      "outputs": []
    },
    {
      "cell_type": "markdown",
      "source": [
        "- The cifar10 dataset is the one that will be used in the model"
      ],
      "metadata": {
        "id": "jYUywNiwZoOr"
      }
    },
    {
      "cell_type": "code",
      "source": [
        "#loading the train and test data\n",
        "(train_data, train_labels), (test_data, test_labels) = cifar10.load_data()\n"
      ],
      "metadata": {
        "id": "M_mNeqFVZ6c-",
        "colab": {
          "base_uri": "https://localhost:8080/"
        },
        "outputId": "3d37115a-8140-4b63-8ae1-0a4a1ba64d54"
      },
      "execution_count": null,
      "outputs": [
        {
          "output_type": "stream",
          "name": "stdout",
          "text": [
            "Downloading data from https://www.cs.toronto.edu/~kriz/cifar-10-python.tar.gz\n",
            "170498071/170498071 [==============================] - 6s 0us/step\n"
          ]
        }
      ]
    },
    {
      "cell_type": "markdown",
      "source": [
        "- The train and test data has been loaded"
      ],
      "metadata": {
        "id": "TXDKkz0patpx"
      }
    },
    {
      "cell_type": "code",
      "source": [
        "# getting the shape of the train data and test data\n",
        "print('*'*30)\n",
        "print(train_data.shape)\n",
        "print('*'*30)\n",
        "print(test_data.shape)\n",
        "print('*'*30)"
      ],
      "metadata": {
        "colab": {
          "base_uri": "https://localhost:8080/"
        },
        "id": "Xn7fkoB6axzx",
        "outputId": "10f2020d-8614-4f4f-afa1-dbb09db352c8"
      },
      "execution_count": null,
      "outputs": [
        {
          "output_type": "stream",
          "name": "stdout",
          "text": [
            "******************************\n",
            "(50000, 32, 32, 3)\n",
            "******************************\n",
            "(10000, 32, 32, 3)\n",
            "******************************\n"
          ]
        }
      ]
    },
    {
      "cell_type": "markdown",
      "source": [
        "- The train dataset contains 50000 images while the test data contains 10000 images\n",
        "- The images are RBG images"
      ],
      "metadata": {
        "id": "qP7xKEdzbH_A"
      }
    },
    {
      "cell_type": "code",
      "source": [
        "# chaning the images to range 0 to 1\n",
        "train_img = train_data/255.0\n",
        "test_img = test_data/255.0"
      ],
      "metadata": {
        "id": "_gMHGw-pbcbv"
      },
      "execution_count": null,
      "outputs": []
    },
    {
      "cell_type": "markdown",
      "source": [
        "- Here, the image data is normalized.\n",
        "- It is changed to decimal numbers from 0 to 1"
      ],
      "metadata": {
        "id": "yVhqZALkbwwO"
      }
    },
    {
      "cell_type": "code",
      "source": [
        "#getting the classnames of cifar10\n",
        "class_names = [\"airplane\", \"automobile\", \"bird\", \"cat\", \"deer\", \"dog\", \"frog\", \"horse\", \"ship\", \"truck\"]\n",
        "\n",
        "print(class_names)"
      ],
      "metadata": {
        "colab": {
          "base_uri": "https://localhost:8080/"
        },
        "id": "9aPeahzFb7jQ",
        "outputId": "551d78ee-66f4-4d94-a0d9-cf6d51e7de64"
      },
      "execution_count": null,
      "outputs": [
        {
          "output_type": "stream",
          "name": "stdout",
          "text": [
            "['airplane', 'automobile', 'bird', 'cat', 'deer', 'dog', 'frog', 'horse', 'ship', 'truck']\n"
          ]
        }
      ]
    },
    {
      "cell_type": "markdown",
      "source": [
        "- The cifar10 dataset has 10 classes. The above are the names of the classes"
      ],
      "metadata": {
        "id": "wF7AI-k3dODf"
      }
    },
    {
      "cell_type": "markdown",
      "source": [
        "### Model building"
      ],
      "metadata": {
        "id": "cUuV8CyMhTxX"
      }
    },
    {
      "cell_type": "code",
      "source": [
        "# Create a Sequential model\n",
        "model = keras.Sequential()\n",
        "\n",
        "# Add Convolutional layers with MaxPooling\n",
        "model.add(layers.Conv2D(32, (3, 3), activation='relu', input_shape=(32, 32, 3), padding='same'))\n",
        "model.add(layers.MaxPooling2D((2, 2)))\n",
        "\n",
        "model.add(layers.Conv2D(64, (3, 3), activation='relu', padding='same'))\n",
        "model.add(layers.MaxPooling2D((2, 2)))\n",
        "\n",
        "model.add(layers.Conv2D(128, (3, 3), activation='relu', padding='same'))\n",
        "model.add(layers.MaxPooling2D((2, 2)))\n",
        "\n",
        "model.add(layers.Conv2D(64, (3, 3), activation='relu', padding='same'))\n",
        "model.add(layers.MaxPooling2D((2, 2)))\n",
        "\n",
        "# Flatten the output and add Dense layers\n",
        "model.add(layers.Flatten())\n",
        "model.add(layers.Dense(64, activation='relu'))\n",
        "model.add(layers.Dense(10, activation='softmax'))\n",
        "\n",
        "# Print the model summary\n",
        "model.summary()\n"
      ],
      "metadata": {
        "colab": {
          "base_uri": "https://localhost:8080/"
        },
        "id": "Wfc9N-6MdVna",
        "outputId": "33135242-8c55-4b88-88c7-cdd3cec77112"
      },
      "execution_count": null,
      "outputs": [
        {
          "output_type": "stream",
          "name": "stdout",
          "text": [
            "Model: \"sequential\"\n",
            "_________________________________________________________________\n",
            " Layer (type)                Output Shape              Param #   \n",
            "=================================================================\n",
            " conv2d (Conv2D)             (None, 32, 32, 32)        896       \n",
            "                                                                 \n",
            " max_pooling2d (MaxPooling2  (None, 16, 16, 32)        0         \n",
            " D)                                                              \n",
            "                                                                 \n",
            " conv2d_1 (Conv2D)           (None, 16, 16, 64)        18496     \n",
            "                                                                 \n",
            " max_pooling2d_1 (MaxPoolin  (None, 8, 8, 64)          0         \n",
            " g2D)                                                            \n",
            "                                                                 \n",
            " conv2d_2 (Conv2D)           (None, 8, 8, 128)         73856     \n",
            "                                                                 \n",
            " max_pooling2d_2 (MaxPoolin  (None, 4, 4, 128)         0         \n",
            " g2D)                                                            \n",
            "                                                                 \n",
            " conv2d_3 (Conv2D)           (None, 4, 4, 64)          73792     \n",
            "                                                                 \n",
            " max_pooling2d_3 (MaxPoolin  (None, 2, 2, 64)          0         \n",
            " g2D)                                                            \n",
            "                                                                 \n",
            " flatten (Flatten)           (None, 256)               0         \n",
            "                                                                 \n",
            " dense (Dense)               (None, 64)                16448     \n",
            "                                                                 \n",
            " dense_1 (Dense)             (None, 10)                650       \n",
            "                                                                 \n",
            "=================================================================\n",
            "Total params: 184138 (719.29 KB)\n",
            "Trainable params: 184138 (719.29 KB)\n",
            "Non-trainable params: 0 (0.00 Byte)\n",
            "_________________________________________________________________\n"
          ]
        }
      ]
    },
    {
      "cell_type": "markdown",
      "source": [
        "- The conv net has 184138 parameters to train.\n",
        "- It has 0 non-trainable parameters\n",
        "- Here same padding was used to ensure the same image size after convolution\n",
        "\n",
        "---\n",
        "\n",
        "### Training the model"
      ],
      "metadata": {
        "id": "hiIS_OsYl4Eb"
      }
    },
    {
      "cell_type": "code",
      "source": [
        "# setting the loss, optimizer, batchsize and epochs\n",
        "batch_size = 64\n",
        "epochs = 50\n",
        "loss = 'sparse_categorical_crossentropy'\n",
        "optimizera = keras.optimizers.Adam(learning_rate = 0.001)\n",
        "metrics = ['accuracy']"
      ],
      "metadata": {
        "id": "KDjfzOs1mNSL"
      },
      "execution_count": null,
      "outputs": []
    },
    {
      "cell_type": "markdown",
      "source": [
        "- Here we have set the loss we will use wich will be *`CategoricalCrossentropy`*, the number of epochs which will be 50, the batch size which is 64 and the optimizer which is *`Adam`* optimizer\n",
        "- The metrics used here is accuracy"
      ],
      "metadata": {
        "id": "d-mWRAbNoHvk"
      }
    },
    {
      "cell_type": "code",
      "source": [
        "#setting the earlystopping of the model\n",
        "early_stopping = keras.callbacks.EarlyStopping(\n",
        "    monitor='val_loss',  # Monitor validation loss\n",
        "    patience=5,          # Number of epochs with no improvement before stopping\n",
        "    restore_best_weights=True  # Restore the best model weights when stopping\n",
        ")"
      ],
      "metadata": {
        "id": "me5JT87ioHAq"
      },
      "execution_count": null,
      "outputs": []
    },
    {
      "cell_type": "markdown",
      "source": [
        "- This will stop the training of the model when the validation loss has no improvemets after 5 epochs"
      ],
      "metadata": {
        "id": "j76qIDagqFeF"
      }
    },
    {
      "cell_type": "code",
      "source": [
        "#defining the model checkpoint\n",
        "checkpoint = keras.callbacks.ModelCheckpoint(\n",
        "    'best_model.h5',\n",
        "    monitor='val_accuracy',  # Monitor validation accuracy\n",
        "    save_best_only=True,  # Save only the best model\n",
        "    mode='max'\n",
        ")"
      ],
      "metadata": {
        "id": "bV98OiSkqO__"
      },
      "execution_count": null,
      "outputs": []
    },
    {
      "cell_type": "markdown",
      "source": [
        "- Here, the best model is saved.\n",
        "- The validation accuracy is used to monitor the model"
      ],
      "metadata": {
        "id": "Z7nQ1lHWqzn6"
      }
    },
    {
      "cell_type": "code",
      "source": [
        "#compiling the model\n",
        "model.compile(loss = loss, optimizer = optimizera, metrics = metrics)"
      ],
      "metadata": {
        "id": "qQxywCrnq9xQ"
      },
      "execution_count": null,
      "outputs": []
    },
    {
      "cell_type": "markdown",
      "source": [
        "- Here, we compile the model"
      ],
      "metadata": {
        "id": "PGZAAVXyuMWk"
      }
    },
    {
      "cell_type": "code",
      "source": [
        "#training the model\n",
        "history = model.fit(train_img, train_labels, epochs = epochs, validation_data=(test_img, test_labels), callbacks=[early_stopping, checkpoint], verbose = 1)"
      ],
      "metadata": {
        "colab": {
          "base_uri": "https://localhost:8080/"
        },
        "id": "kcHNVJQjuOgX",
        "outputId": "d57e101e-afbd-43bc-cf54-ab555f2c3e65"
      },
      "execution_count": null,
      "outputs": [
        {
          "output_type": "stream",
          "name": "stdout",
          "text": [
            "Epoch 1/50\n",
            "1563/1563 [==============================] - 21s 7ms/step - loss: 1.4554 - accuracy: 0.4670 - val_loss: 1.1277 - val_accuracy: 0.5918\n",
            "Epoch 2/50\n",
            "  16/1563 [..............................] - ETA: 11s - loss: 1.0599 - accuracy: 0.6426"
          ]
        },
        {
          "output_type": "stream",
          "name": "stderr",
          "text": [
            "/usr/local/lib/python3.10/dist-packages/keras/src/engine/training.py:3079: UserWarning: You are saving your model as an HDF5 file via `model.save()`. This file format is considered legacy. We recommend using instead the native Keras format, e.g. `model.save('my_model.keras')`.\n",
            "  saving_api.save_model(\n"
          ]
        },
        {
          "output_type": "stream",
          "name": "stdout",
          "text": [
            "1563/1563 [==============================] - 9s 6ms/step - loss: 1.0156 - accuracy: 0.6389 - val_loss: 0.9665 - val_accuracy: 0.6591\n",
            "Epoch 3/50\n",
            "1563/1563 [==============================] - 9s 6ms/step - loss: 0.8342 - accuracy: 0.7078 - val_loss: 0.8301 - val_accuracy: 0.7088\n",
            "Epoch 4/50\n",
            "1563/1563 [==============================] - 9s 6ms/step - loss: 0.7174 - accuracy: 0.7480 - val_loss: 0.8800 - val_accuracy: 0.6948\n",
            "Epoch 5/50\n",
            "1563/1563 [==============================] - 9s 6ms/step - loss: 0.6336 - accuracy: 0.7787 - val_loss: 0.7924 - val_accuracy: 0.7255\n",
            "Epoch 6/50\n",
            "1563/1563 [==============================] - 9s 6ms/step - loss: 0.5555 - accuracy: 0.8048 - val_loss: 0.7678 - val_accuracy: 0.7360\n",
            "Epoch 7/50\n",
            "1563/1563 [==============================] - 10s 6ms/step - loss: 0.4926 - accuracy: 0.8277 - val_loss: 0.7807 - val_accuracy: 0.7414\n",
            "Epoch 8/50\n",
            "1563/1563 [==============================] - 10s 6ms/step - loss: 0.4284 - accuracy: 0.8498 - val_loss: 0.8176 - val_accuracy: 0.7397\n",
            "Epoch 9/50\n",
            "1563/1563 [==============================] - 10s 6ms/step - loss: 0.3811 - accuracy: 0.8651 - val_loss: 0.9021 - val_accuracy: 0.7265\n",
            "Epoch 10/50\n",
            "1563/1563 [==============================] - 9s 6ms/step - loss: 0.3351 - accuracy: 0.8811 - val_loss: 0.9150 - val_accuracy: 0.7438\n",
            "Epoch 11/50\n",
            "1563/1563 [==============================] - 10s 6ms/step - loss: 0.2992 - accuracy: 0.8925 - val_loss: 0.9539 - val_accuracy: 0.7423\n"
          ]
        }
      ]
    },
    {
      "cell_type": "markdown",
      "source": [
        "- The model is fit on the training data and used the evaluation data to evaluate it.\n",
        "- The model has used 13 epochs."
      ],
      "metadata": {
        "id": "FW_S9HVTWVAg"
      }
    },
    {
      "cell_type": "code",
      "source": [
        "best_model = keras.models.load_model('best_model.h5')\n",
        "print(best_model)"
      ],
      "metadata": {
        "colab": {
          "base_uri": "https://localhost:8080/"
        },
        "id": "esMDOAEs_ke3",
        "outputId": "f5e4fc9d-b74e-41cf-f2b3-c178d28c2293"
      },
      "execution_count": null,
      "outputs": [
        {
          "output_type": "stream",
          "name": "stdout",
          "text": [
            "<keras.src.engine.sequential.Sequential object at 0x78330559de40>\n"
          ]
        }
      ]
    },
    {
      "cell_type": "markdown",
      "source": [
        "- The best model has been saved as a h5 file."
      ],
      "metadata": {
        "id": "Syn96JJ0XnKy"
      }
    },
    {
      "cell_type": "markdown",
      "source": [
        "### fitting the model"
      ],
      "metadata": {
        "id": "OkQg6E2UWSq6"
      }
    },
    {
      "cell_type": "code",
      "source": [
        "hist1 = best_model.fit(train_img, train_labels, epochs = epochs, validation_data=(test_img, test_labels), callbacks=[early_stopping, checkpoint], verbose = 1)"
      ],
      "metadata": {
        "colab": {
          "base_uri": "https://localhost:8080/"
        },
        "id": "iqpSXCxpnMY4",
        "outputId": "f74b783c-ca24-4bcc-eb5e-008b64e8da37"
      },
      "execution_count": null,
      "outputs": [
        {
          "output_type": "stream",
          "name": "stdout",
          "text": [
            "Epoch 1/50\n",
            "1563/1563 [==============================] - 12s 7ms/step - loss: 0.2993 - accuracy: 0.8927 - val_loss: 0.9393 - val_accuracy: 0.7353\n",
            "Epoch 2/50\n",
            "1563/1563 [==============================] - 9s 6ms/step - loss: 0.2651 - accuracy: 0.9035 - val_loss: 1.0716 - val_accuracy: 0.7300\n",
            "Epoch 3/50\n",
            "1563/1563 [==============================] - 10s 6ms/step - loss: 0.2389 - accuracy: 0.9154 - val_loss: 1.0499 - val_accuracy: 0.7407\n",
            "Epoch 4/50\n",
            "1563/1563 [==============================] - 10s 7ms/step - loss: 0.2225 - accuracy: 0.9208 - val_loss: 1.1034 - val_accuracy: 0.7424\n",
            "Epoch 5/50\n",
            "1563/1563 [==============================] - 9s 6ms/step - loss: 0.2035 - accuracy: 0.9283 - val_loss: 1.2014 - val_accuracy: 0.7287\n",
            "Epoch 6/50\n",
            "1563/1563 [==============================] - 9s 6ms/step - loss: 0.1920 - accuracy: 0.9313 - val_loss: 1.2073 - val_accuracy: 0.7203\n"
          ]
        }
      ]
    },
    {
      "cell_type": "markdown",
      "source": [
        "- The best model has a validation accuracy of 74 percent"
      ],
      "metadata": {
        "id": "rThuyFESoy1v"
      }
    },
    {
      "cell_type": "code",
      "source": [
        "#checking the history of the model\n",
        "hist1.history"
      ],
      "metadata": {
        "colab": {
          "base_uri": "https://localhost:8080/"
        },
        "id": "bjkbLhako54S",
        "outputId": "d0500463-f1a4-46e1-e9b1-27ad492f9e80"
      },
      "execution_count": null,
      "outputs": [
        {
          "output_type": "execute_result",
          "data": {
            "text/plain": [
              "{'loss': [0.2993278205394745,\n",
              "  0.26505202054977417,\n",
              "  0.2388962358236313,\n",
              "  0.22254393994808197,\n",
              "  0.20352691411972046,\n",
              "  0.1919841170310974],\n",
              " 'accuracy': [0.8927000164985657,\n",
              "  0.9035000205039978,\n",
              "  0.9154199957847595,\n",
              "  0.920799970626831,\n",
              "  0.9283199906349182,\n",
              "  0.9312800168991089],\n",
              " 'val_loss': [0.9392906427383423,\n",
              "  1.0715649127960205,\n",
              "  1.0499290227890015,\n",
              "  1.10344660282135,\n",
              "  1.2013741731643677,\n",
              "  1.2072598934173584],\n",
              " 'val_accuracy': [0.7353000044822693,\n",
              "  0.7300000190734863,\n",
              "  0.7407000064849854,\n",
              "  0.7423999905586243,\n",
              "  0.7286999821662903,\n",
              "  0.720300018787384]}"
            ]
          },
          "metadata": {},
          "execution_count": 15
        }
      ]
    },
    {
      "cell_type": "code",
      "source": [
        "#changing it to a dataframe\n",
        "hist_df = pd.DataFrame(hist1.history)\n",
        "print(hist_df)"
      ],
      "metadata": {
        "colab": {
          "base_uri": "https://localhost:8080/"
        },
        "id": "Eh3nersUpWgY",
        "outputId": "0ad05ff8-7b7d-4ca6-b50b-6c47c60bd944"
      },
      "execution_count": null,
      "outputs": [
        {
          "output_type": "stream",
          "name": "stdout",
          "text": [
            "       loss  accuracy  val_loss  val_accuracy\n",
            "0  0.299328   0.89270  0.939291        0.7353\n",
            "1  0.265052   0.90350  1.071565        0.7300\n",
            "2  0.238896   0.91542  1.049929        0.7407\n",
            "3  0.222544   0.92080  1.103447        0.7424\n",
            "4  0.203527   0.92832  1.201374        0.7287\n",
            "5  0.191984   0.93128  1.207260        0.7203\n"
          ]
        }
      ]
    }
  ]
}